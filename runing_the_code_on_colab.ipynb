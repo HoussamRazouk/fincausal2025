{
  "cells": [
    {
      "cell_type": "markdown",
      "metadata": {
        "id": "view-in-github",
        "colab_type": "text"
      },
      "source": [
        "<a href=\"https://colab.research.google.com/github/HoussamRazouk/fincausal2025/blob/main/runing_the_code_on_colab.ipynb\" target=\"_parent\"><img src=\"https://colab.research.google.com/assets/colab-badge.svg\" alt=\"Open In Colab\"/></a>"
      ]
    },
    {
      "cell_type": "code",
      "execution_count": 1,
      "metadata": {
        "colab": {
          "base_uri": "https://localhost:8080/"
        },
        "id": "2cIX6SGDTemw",
        "outputId": "1c0bf28f-6c4f-443b-aa70-2630e7ae2efd"
      },
      "outputs": [
        {
          "output_type": "stream",
          "name": "stdout",
          "text": [
            "Mounted at /content/drive\n"
          ]
        }
      ],
      "source": [
        "\n",
        "## mount to your drive\n",
        "from google.colab import drive\n",
        "drive.mount('/content/drive')\n",
        "\n"
      ]
    },
    {
      "cell_type": "code",
      "execution_count": null,
      "metadata": {
        "id": "4JMh1dBRcbhd",
        "colab": {
          "base_uri": "https://localhost:8080/"
        },
        "outputId": "ce460a43-6f9a-4626-c40c-145af640895b"
      },
      "outputs": [
        {
          "output_type": "stream",
          "name": "stdout",
          "text": [
            "/content/drive/My Drive\n",
            "Cloning into 'fincausal2025'...\n",
            "remote: Enumerating objects: 233, done.\u001b[K\n",
            "remote: Counting objects: 100% (233/233), done.\u001b[K\n",
            "remote: Compressing objects: 100% (178/178), done.\u001b[K\n",
            "remote: Total 233 (delta 92), reused 176 (delta 46), pack-reused 0 (from 0)\u001b[K\n",
            "Receiving objects: 100% (233/233), 2.09 MiB | 4.83 MiB/s, done.\n",
            "Resolving deltas: 100% (92/92), done.\n"
          ]
        }
      ],
      "source": [
        "\n",
        "## remove the old reposotry and clone the lates one and set the home directory to the project directory\n",
        "#!rm -rf /content/drive/My\\ Drive/fincausal2025\n",
        "#%cd /content/drive/My Drive/\n",
        "#!git clone  https://github.com/HoussamRazouk/fincausal2025.git\n",
        "\n",
        "\n"
      ]
    },
    {
      "cell_type": "code",
      "source": [
        "import os\n",
        "os.chdir('/content/drive/My Drive/fincausal2025')"
      ],
      "metadata": {
        "id": "w5k5PHagMqvh"
      },
      "execution_count": 2,
      "outputs": []
    },
    {
      "cell_type": "code",
      "source": [
        "!git pull  https://github.com/HoussamRazouk/fincausal2025.git"
      ],
      "metadata": {
        "id": "DrnTFLiMNXYg",
        "colab": {
          "base_uri": "https://localhost:8080/"
        },
        "outputId": "85526f49-2b31-49af-bbd3-164d4a2aa2c8"
      },
      "execution_count": null,
      "outputs": [
        {
          "output_type": "stream",
          "name": "stdout",
          "text": [
            "remote: Enumerating objects: 13, done.\u001b[K\n",
            "remote: Counting objects:   7% (1/13)\u001b[K\rremote: Counting objects:  15% (2/13)\u001b[K\rremote: Counting objects:  23% (3/13)\u001b[K\rremote: Counting objects:  30% (4/13)\u001b[K\rremote: Counting objects:  38% (5/13)\u001b[K\rremote: Counting objects:  46% (6/13)\u001b[K\rremote: Counting objects:  53% (7/13)\u001b[K\rremote: Counting objects:  61% (8/13)\u001b[K\rremote: Counting objects:  69% (9/13)\u001b[K\rremote: Counting objects:  76% (10/13)\u001b[K\rremote: Counting objects:  84% (11/13)\u001b[K\rremote: Counting objects:  92% (12/13)\u001b[K\rremote: Counting objects: 100% (13/13)\u001b[K\rremote: Counting objects: 100% (13/13), done.\u001b[K\n",
            "remote: Compressing objects: 100% (1/1)\u001b[K\rremote: Compressing objects: 100% (1/1), done.\u001b[K\n",
            "remote: Total 7 (delta 6), reused 7 (delta 6), pack-reused 0 (from 0)\u001b[K\n",
            "Unpacking objects:  14% (1/7)\rUnpacking objects:  28% (2/7)\rUnpacking objects:  42% (3/7)\rUnpacking objects:  57% (4/7)\rUnpacking objects:  71% (5/7)\rUnpacking objects:  85% (6/7)\rUnpacking objects: 100% (7/7)\rUnpacking objects: 100% (7/7), 658 bytes | 6.00 KiB/s, done.\n",
            "From https://github.com/HoussamRazouk/fincausal2025\n",
            " * branch            HEAD       -> FETCH_HEAD\n",
            "Updating 89a4c29..2fb3fc6\n",
            "Fast-forward\n",
            " src/Model_vanilla_seq_tagger_BIO/Last_training.py   | 16 \u001b[32m++++++++\u001b[m\u001b[31m--------\u001b[m\n",
            " src/Model_vanilla_seq_tagger_BIO/predict_example.py |  8 \u001b[32m++++\u001b[m\u001b[31m----\u001b[m\n",
            " src/Model_vanilla_seq_tagger_BIO/training_loop.py   | 12 \u001b[32m++++++\u001b[m\u001b[31m------\u001b[m\n",
            " 3 files changed, 18 insertions(+), 18 deletions(-)\n"
          ]
        }
      ]
    },
    {
      "cell_type": "code",
      "execution_count": null,
      "metadata": {
        "id": "HdandnZoccFB",
        "colab": {
          "base_uri": "https://localhost:8080/"
        },
        "outputId": "87a8a7a5-8487-44a6-ac2f-60c7b8551962"
      },
      "outputs": [
        {
          "output_type": "stream",
          "name": "stdout",
          "text": [
            "Current working directory: /content/drive/My Drive/fincausal2025\n",
            "Using device: cuda\n",
            "tokenizer_config.json: 100% 49.0/49.0 [00:00<00:00, 266kB/s]\n",
            "vocab.txt: 100% 213k/213k [00:00<00:00, 511kB/s]\n",
            "tokenizer.json: 100% 436k/436k [00:00<00:00, 682kB/s]\n",
            "config.json: 100% 570/570 [00:00<00:00, 3.56MB/s]\n",
            "/usr/local/lib/python3.10/dist-packages/transformers/tokenization_utils_base.py:1601: FutureWarning: `clean_up_tokenization_spaces` was not set. It will be set to `True` by default. This behavior will be depracted in transformers v4.45, and will be then set to `False` by default. For more details check this issue: https://github.com/huggingface/transformers/issues/31884\n",
            "  warnings.warn(\n",
            "/usr/local/lib/python3.10/dist-packages/transformers/tokenization_utils_base.py:1601: FutureWarning: `clean_up_tokenization_spaces` was not set. It will be set to `True` by default. This behavior will be depracted in transformers v4.45, and will be then set to `False` by default. For more details check this issue: https://github.com/huggingface/transformers/issues/31884\n",
            "  warnings.warn(\n",
            "/usr/local/lib/python3.10/dist-packages/transformers/tokenization_utils_base.py:1601: FutureWarning: `clean_up_tokenization_spaces` was not set. It will be set to `True` by default. This behavior will be depracted in transformers v4.45, and will be then set to `False` by default. For more details check this issue: https://github.com/huggingface/transformers/issues/31884\n",
            "  warnings.warn(\n",
            "model.safetensors: 100% 436M/436M [00:02<00:00, 202MB/s]\n",
            "768\n",
            "3\n",
            "Number of trainable parameters in the model: 108312579\n",
            "Epoch 1/100, Average Loss: 0.5466460759861994\n",
            "Directory  src/Model_vanilla_seq_tagger_BIO/trained_models/bert-base-cased  created.\n",
            "Epoch 2/100, Average Loss: 0.25415913615438895\n",
            "Directory  src/Model_vanilla_seq_tagger_BIO/trained_models/bert-base-cased  already exists.\n",
            "Epoch 3/100, Average Loss: 0.13620315490574655\n",
            "Epoch 4/100, Average Loss: 0.08420103927284985\n",
            "Epoch 5/100, Average Loss: 0.06050788457663256\n",
            "Epoch 6/100, Average Loss: 0.03940749948674623\n",
            "Epoch 7/100, Average Loss: 0.033701358553440454\n",
            "Early stopping triggered for fold Last training/5\n",
            "fold endsLast training,\n",
            "############################################\n",
            "Done successfully\n"
          ]
        }
      ],
      "source": [
        "!python /content/drive/My\\ Drive/fincausal2025/src/Model_vanilla_seq_tagger_BIO/Last_training.py # run the training loop"
      ]
    },
    {
      "cell_type": "code",
      "source": [
        "!git pull  https://github.com/HoussamRazouk/fincausal2025.git"
      ],
      "metadata": {
        "colab": {
          "base_uri": "https://localhost:8080/"
        },
        "id": "K7kPyxd8E-cZ",
        "outputId": "e92f2334-83b1-425f-bc62-ba5c2433032b"
      },
      "execution_count": null,
      "outputs": [
        {
          "output_type": "stream",
          "name": "stdout",
          "text": [
            "remote: Enumerating objects: 19, done.\u001b[K\n",
            "remote: Counting objects:   5% (1/19)\u001b[K\rremote: Counting objects:  10% (2/19)\u001b[K\rremote: Counting objects:  15% (3/19)\u001b[K\rremote: Counting objects:  21% (4/19)\u001b[K\rremote: Counting objects:  26% (5/19)\u001b[K\rremote: Counting objects:  31% (6/19)\u001b[K\rremote: Counting objects:  36% (7/19)\u001b[K\rremote: Counting objects:  42% (8/19)\u001b[K\rremote: Counting objects:  47% (9/19)\u001b[K\rremote: Counting objects:  52% (10/19)\u001b[K\rremote: Counting objects:  57% (11/19)\u001b[K\rremote: Counting objects:  63% (12/19)\u001b[K\rremote: Counting objects:  68% (13/19)\u001b[K\rremote: Counting objects:  73% (14/19)\u001b[K\rremote: Counting objects:  78% (15/19)\u001b[K\rremote: Counting objects:  84% (16/19)\u001b[K\rremote: Counting objects:  89% (17/19)\u001b[K\rremote: Counting objects:  94% (18/19)\u001b[K\rremote: Counting objects: 100% (19/19)\u001b[K\rremote: Counting objects: 100% (19/19), done.\u001b[K\n",
            "remote: Compressing objects:  50% (1/2)\u001b[K\rremote: Compressing objects: 100% (2/2)\u001b[K\rremote: Compressing objects: 100% (2/2), done.\u001b[K\n",
            "remote: Total 11 (delta 9), reused 11 (delta 9), pack-reused 0 (from 0)\u001b[K\n",
            "Unpacking objects: 100% (11/11), 4.94 KiB | 1024 bytes/s, done.\n",
            "From https://github.com/HoussamRazouk/fincausal2025\n",
            " * branch            HEAD       -> FETCH_HEAD\n",
            "Updating c5156ea..fbe0b1c\n",
            "Fast-forward\n",
            " .../__pycache__/Extractive_seq_tagger_Dataset.cpython-312.pyc   | Bin \u001b[31m6682\u001b[m -> \u001b[32m6671\u001b[m bytes\n",
            " .../__pycache__/data_pre_processing.cpython-312.pyc             | Bin \u001b[31m6876\u001b[m -> \u001b[32m6762\u001b[m bytes\n",
            " src/Model_vanilla_seq_tagger_BIN/training_loop.py               |  34 \u001b[32m+\u001b[m\u001b[31m-------\u001b[m\n",
            " src/Model_vanilla_seq_tagger_BIO/predict_example.py             | 120 \u001b[32m++++++++++++++\u001b[m\u001b[31m--------------\u001b[m\n",
            " src/Model_vanilla_seq_tagger_BIO/training_loop.py               |  41 \u001b[32m+\u001b[m\u001b[31m---------\u001b[m\n",
            " 5 files changed, 67 insertions(+), 128 deletions(-)\n"
          ]
        }
      ]
    },
    {
      "cell_type": "code",
      "source": [
        "!python /content/drive/My\\ Drive/fincausal2025/src/Model_vanilla_seq_tagger_BIN/training_loop.py # run the training loop"
      ],
      "metadata": {
        "id": "G9G1IY2fM8dh",
        "colab": {
          "base_uri": "https://localhost:8080/"
        },
        "outputId": "dae26285-976d-450a-91e6-821ef419189a"
      },
      "execution_count": null,
      "outputs": [
        {
          "output_type": "stream",
          "name": "stdout",
          "text": [
            "Current working directory: /content/drive/My Drive/fincausal2025\n",
            "Using device: cuda\n",
            "/usr/local/lib/python3.10/dist-packages/transformers/tokenization_utils_base.py:1601: FutureWarning: `clean_up_tokenization_spaces` was not set. It will be set to `True` by default. This behavior will be depracted in transformers v4.45, and will be then set to `False` by default. For more details check this issue: https://github.com/huggingface/transformers/issues/31884\n",
            "  warnings.warn(\n",
            "/usr/local/lib/python3.10/dist-packages/transformers/tokenization_utils_base.py:1601: FutureWarning: `clean_up_tokenization_spaces` was not set. It will be set to `True` by default. This behavior will be depracted in transformers v4.45, and will be then set to `False` by default. For more details check this issue: https://github.com/huggingface/transformers/issues/31884\n",
            "  warnings.warn(\n",
            "/usr/local/lib/python3.10/dist-packages/transformers/tokenization_utils_base.py:1601: FutureWarning: `clean_up_tokenization_spaces` was not set. It will be set to `True` by default. This behavior will be depracted in transformers v4.45, and will be then set to `False` by default. For more details check this issue: https://github.com/huggingface/transformers/issues/31884\n",
            "  warnings.warn(\n",
            "768\n",
            "2\n",
            "Number of trainable parameters in the model: 108311810\n",
            "Epoch 1/100, Average Loss: 0.4913025739345145\n",
            "Directory  src/Model_vanilla_seq_tagger_BIN/trained_models/bert-base-cased_BIN  already exists.\n",
            "Epoch 2/100, Average Loss: 0.262312521484304\n",
            "Directory  src/Model_vanilla_seq_tagger_BIN/trained_models/bert-base-cased_BIN  already exists.\n",
            "Epoch 3/100, Average Loss: 0.13273899970536537\n",
            "Directory  src/Model_vanilla_seq_tagger_BIN/trained_models/bert-base-cased_BIN  already exists.\n",
            "Epoch 4/100, Average Loss: 0.07585821363163438\n",
            "Epoch 5/100, Average Loss: 0.046314415026535376\n",
            "Epoch 6/100, Average Loss: 0.039478981211048335\n",
            "Epoch 7/100, Average Loss: 0.033236519824911624\n",
            "Epoch 8/100, Average Loss: 0.024887085180145076\n",
            "Early stopping triggered for fold 1/[420, 200, 100, 150, 24]\n",
            "fold ends420,\n",
            "############################################\n",
            "768\n",
            "2\n",
            "Number of trainable parameters in the model: 108311810\n",
            "Epoch 1/100, Average Loss: 0.49976574772215904\n",
            "Directory  src/Model_vanilla_seq_tagger_BIN/trained_models/bert-base-cased_BIN  already exists.\n",
            "Epoch 2/100, Average Loss: 0.3061905994694284\n",
            "Directory  src/Model_vanilla_seq_tagger_BIN/trained_models/bert-base-cased_BIN  already exists.\n",
            "Epoch 3/100, Average Loss: 0.15928264521062374\n",
            "Directory  src/Model_vanilla_seq_tagger_BIN/trained_models/bert-base-cased_BIN  already exists.\n",
            "Epoch 4/100, Average Loss: 0.08319413382560015\n",
            "Directory  src/Model_vanilla_seq_tagger_BIN/trained_models/bert-base-cased_BIN  already exists.\n",
            "Epoch 5/100, Average Loss: 0.06053170563276619\n",
            "Epoch 6/100, Average Loss: 0.04252156593584198\n",
            "Epoch 7/100, Average Loss: 0.025811104165536274\n",
            "Epoch 8/100, Average Loss: 0.025289920889995397\n",
            "Epoch 9/100, Average Loss: 0.018008761711671276\n",
            "Early stopping triggered for fold 2/[420, 200, 100, 150, 24]\n",
            "fold ends200,\n",
            "############################################\n",
            "768\n",
            "2\n",
            "Number of trainable parameters in the model: 108311810\n",
            "Epoch 1/100, Average Loss: 0.4817935583439279\n",
            "Directory  src/Model_vanilla_seq_tagger_BIN/trained_models/bert-base-cased_BIN  already exists.\n",
            "Epoch 2/100, Average Loss: 0.2821894259528911\n",
            "Directory  src/Model_vanilla_seq_tagger_BIN/trained_models/bert-base-cased_BIN  already exists.\n",
            "Epoch 3/100, Average Loss: 0.14054635297903356\n",
            "Directory  src/Model_vanilla_seq_tagger_BIN/trained_models/bert-base-cased_BIN  already exists.\n",
            "Epoch 4/100, Average Loss: 0.07856443463923767\n",
            "Epoch 5/100, Average Loss: 0.04747693915603722\n",
            "Epoch 6/100, Average Loss: 0.040707485058017946\n",
            "Epoch 7/100, Average Loss: 0.0338449390639769\n",
            "Epoch 8/100, Average Loss: 0.03070105935702041\n",
            "Early stopping triggered for fold 3/[420, 200, 100, 150, 24]\n",
            "fold ends100,\n",
            "############################################\n",
            "768\n",
            "2\n",
            "Number of trainable parameters in the model: 108311810\n",
            "Epoch 1/100, Average Loss: 0.48729037223978244\n",
            "Directory  src/Model_vanilla_seq_tagger_BIN/trained_models/bert-base-cased_BIN  already exists.\n",
            "Epoch 2/100, Average Loss: 0.2657117697786778\n",
            "Directory  src/Model_vanilla_seq_tagger_BIN/trained_models/bert-base-cased_BIN  already exists.\n",
            "Epoch 3/100, Average Loss: 0.1364249773323536\n",
            "Epoch 4/100, Average Loss: 0.08206837575763781\n",
            "Epoch 5/100, Average Loss: 0.05591343880997614\n",
            "Epoch 6/100, Average Loss: 0.037041989150159854\n",
            "Epoch 7/100, Average Loss: 0.026684139941279043\n",
            "Early stopping triggered for fold 4/[420, 200, 100, 150, 24]\n",
            "fold ends150,\n",
            "############################################\n",
            "768\n",
            "2\n",
            "Number of trainable parameters in the model: 108311810\n",
            "Epoch 1/100, Average Loss: 0.48108796585113445\n",
            "Directory  src/Model_vanilla_seq_tagger_BIN/trained_models/bert-base-cased_BIN  already exists.\n",
            "Epoch 2/100, Average Loss: 0.26416706991322497\n",
            "Directory  src/Model_vanilla_seq_tagger_BIN/trained_models/bert-base-cased_BIN  already exists.\n",
            "Epoch 3/100, Average Loss: 0.12927175317197404\n",
            "Directory  src/Model_vanilla_seq_tagger_BIN/trained_models/bert-base-cased_BIN  already exists.\n",
            "Epoch 4/100, Average Loss: 0.08369473254981827\n",
            "Epoch 5/100, Average Loss: 0.05304172553835397\n",
            "Epoch 6/100, Average Loss: 0.03641522257772096\n",
            "Epoch 7/100, Average Loss: 0.03200100007667603\n",
            "Epoch 8/100, Average Loss: 0.019006620648569686\n",
            "Early stopping triggered for fold 5/[420, 200, 100, 150, 24]\n",
            "fold ends24,\n",
            "############################################\n",
            "Done successfully\n"
          ]
        }
      ]
    },
    {
      "cell_type": "code",
      "source": [
        "!git pull  https://github.com/HoussamRazouk/fincausal2025.git"
      ],
      "metadata": {
        "id": "urKYtx81FTJK",
        "colab": {
          "base_uri": "https://localhost:8080/"
        },
        "outputId": "4a67b908-ffb4-4d0c-af26-816c4ec078af"
      },
      "execution_count": 3,
      "outputs": [
        {
          "output_type": "stream",
          "name": "stdout",
          "text": [
            "remote: Enumerating objects: 25, done.\u001b[K\n",
            "remote: Counting objects:   4% (1/25)\u001b[K\rremote: Counting objects:   8% (2/25)\u001b[K\rremote: Counting objects:  12% (3/25)\u001b[K\rremote: Counting objects:  16% (4/25)\u001b[K\rremote: Counting objects:  20% (5/25)\u001b[K\rremote: Counting objects:  24% (6/25)\u001b[K\rremote: Counting objects:  28% (7/25)\u001b[K\rremote: Counting objects:  32% (8/25)\u001b[K\rremote: Counting objects:  36% (9/25)\u001b[K\rremote: Counting objects:  40% (10/25)\u001b[K\rremote: Counting objects:  44% (11/25)\u001b[K\rremote: Counting objects:  48% (12/25)\u001b[K\rremote: Counting objects:  52% (13/25)\u001b[K\rremote: Counting objects:  56% (14/25)\u001b[K\rremote: Counting objects:  60% (15/25)\u001b[K\rremote: Counting objects:  64% (16/25)\u001b[K\rremote: Counting objects:  68% (17/25)\u001b[K\rremote: Counting objects:  72% (18/25)\u001b[K\rremote: Counting objects:  76% (19/25)\u001b[K\rremote: Counting objects:  80% (20/25)\u001b[K\rremote: Counting objects:  84% (21/25)\u001b[K\rremote: Counting objects:  88% (22/25)\u001b[K\rremote: Counting objects:  92% (23/25)\u001b[K\rremote: Counting objects:  96% (24/25)\u001b[K\rremote: Counting objects: 100% (25/25)\u001b[K\rremote: Counting objects: 100% (25/25), done.\u001b[K\n",
            "remote: Compressing objects:  33% (1/3)\u001b[K\rremote: Compressing objects:  66% (2/3)\u001b[K\rremote: Compressing objects: 100% (3/3)\u001b[K\rremote: Compressing objects: 100% (3/3), done.\u001b[K\n",
            "remote: Total 15 (delta 12), reused 15 (delta 12), pack-reused 0 (from 0)\u001b[K\n",
            "Unpacking objects: 100% (15/15), 18.39 KiB | 3.00 KiB/s, done.\n",
            "From https://github.com/HoussamRazouk/fincausal2025\n",
            " * branch            HEAD       -> FETCH_HEAD\n",
            "Updating fbe0b1c..ac19d11\n",
            "Fast-forward\n",
            " .../input_data_evaluation_en_bert-base-cased_BIO_annotation.csv | 101 \u001b[32m+++++++++++++++++++++\u001b[m\n",
            " src/Model_vanilla_seq_tagger_BIN/Final_inference.py             |  37 \u001b[32m++++++++\u001b[m\n",
            " src/Model_vanilla_seq_tagger_BIN/Last_training.py               |   2 \u001b[32m+\u001b[m\u001b[31m-\u001b[m\n",
            " .../__pycache__/config.cpython-312.pyc                          | Bin \u001b[31m577\u001b[m -> \u001b[32m571\u001b[m bytes\n",
            " src/Model_vanilla_seq_tagger_BIN/predict_example.py             | 130 \u001b[32m++++++++++++++\u001b[m\u001b[31m--------------\u001b[m\n",
            " src/Model_vanilla_seq_tagger_BIO/Final_inference.py             |  37 \u001b[32m++++++++\u001b[m\n",
            " .../__pycache__/predict_example.cpython-312.pyc                 | Bin \u001b[31m0\u001b[m -> \u001b[32m8935\u001b[m bytes\n",
            " 7 files changed, 241 insertions(+), 66 deletions(-)\n",
            " create mode 100644 data/input_data_evaluation_en_bert-base-cased_BIO_annotation.csv\n",
            " create mode 100644 src/Model_vanilla_seq_tagger_BIN/Final_inference.py\n",
            " create mode 100644 src/Model_vanilla_seq_tagger_BIO/Final_inference.py\n",
            " create mode 100644 src/Model_vanilla_seq_tagger_BIO/__pycache__/predict_example.cpython-312.pyc\n"
          ]
        }
      ]
    },
    {
      "cell_type": "code",
      "source": [
        "!python /content/drive/My\\ Drive/fincausal2025/src/Model_vanilla_seq_tagger_BIN/Last_training.py #"
      ],
      "metadata": {
        "colab": {
          "base_uri": "https://localhost:8080/"
        },
        "id": "EkhXLV8Ywdpx",
        "outputId": "f5833ecd-9ca2-4616-f2b1-487fcdf548db"
      },
      "execution_count": 4,
      "outputs": [
        {
          "output_type": "stream",
          "name": "stdout",
          "text": [
            "Current working directory: /content/drive/My Drive/fincausal2025\n",
            "Using device: cuda\n",
            "tokenizer_config.json: 100% 49.0/49.0 [00:00<00:00, 323kB/s]\n",
            "vocab.txt: 100% 213k/213k [00:00<00:00, 2.78MB/s]\n",
            "tokenizer.json: 100% 436k/436k [00:00<00:00, 6.35MB/s]\n",
            "config.json: 100% 570/570 [00:00<00:00, 2.77MB/s]\n",
            "/usr/local/lib/python3.10/dist-packages/transformers/tokenization_utils_base.py:1601: FutureWarning: `clean_up_tokenization_spaces` was not set. It will be set to `True` by default. This behavior will be depracted in transformers v4.45, and will be then set to `False` by default. For more details check this issue: https://github.com/huggingface/transformers/issues/31884\n",
            "  warnings.warn(\n",
            "/usr/local/lib/python3.10/dist-packages/transformers/tokenization_utils_base.py:1601: FutureWarning: `clean_up_tokenization_spaces` was not set. It will be set to `True` by default. This behavior will be depracted in transformers v4.45, and will be then set to `False` by default. For more details check this issue: https://github.com/huggingface/transformers/issues/31884\n",
            "  warnings.warn(\n",
            "/usr/local/lib/python3.10/dist-packages/transformers/tokenization_utils_base.py:1601: FutureWarning: `clean_up_tokenization_spaces` was not set. It will be set to `True` by default. This behavior will be depracted in transformers v4.45, and will be then set to `False` by default. For more details check this issue: https://github.com/huggingface/transformers/issues/31884\n",
            "  warnings.warn(\n",
            "model.safetensors: 100% 436M/436M [00:05<00:00, 81.0MB/s]\n",
            "768\n",
            "2\n",
            "Number of trainable parameters in the model: 108311810\n",
            "Epoch 1/100, Average Loss: 0.46741201741210486\n",
            "Directory  src/Model_vanilla_seq_tagger_BIN/trained_models/bert-base-cased  created.\n",
            "Epoch 2/100, Average Loss: 0.24726666415394363\n",
            "Directory  src/Model_vanilla_seq_tagger_BIN/trained_models/bert-base-cased  already exists.\n",
            "Epoch 3/100, Average Loss: 0.12719290784039236\n",
            "Directory  src/Model_vanilla_seq_tagger_BIN/trained_models/bert-base-cased  already exists.\n",
            "Epoch 4/100, Average Loss: 0.09342610808799706\n",
            "Epoch 5/100, Average Loss: 0.05269221267544554\n",
            "Epoch 6/100, Average Loss: 0.04417674037256925\n",
            "Epoch 7/100, Average Loss: 0.02911763562390707\n",
            "Epoch 8/100, Average Loss: 0.02579246807579046\n",
            "Early stopping triggered for fold Last training/5\n",
            "fold endsLast training,\n",
            "############################################\n",
            "Done successfully\n"
          ]
        }
      ]
    },
    {
      "cell_type": "code",
      "source": [],
      "metadata": {
        "id": "brdbTZ-1xS-k"
      },
      "execution_count": null,
      "outputs": []
    }
  ],
  "metadata": {
    "accelerator": "GPU",
    "colab": {
      "gpuType": "T4",
      "provenance": [],
      "toc_visible": true,
      "include_colab_link": true
    },
    "kernelspec": {
      "display_name": "Python 3",
      "name": "python3"
    }
  },
  "nbformat": 4,
  "nbformat_minor": 0
}