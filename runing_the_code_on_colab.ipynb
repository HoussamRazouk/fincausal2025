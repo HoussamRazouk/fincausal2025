{
  "cells": [
    {
      "cell_type": "markdown",
      "metadata": {
        "id": "view-in-github",
        "colab_type": "text"
      },
      "source": [
        "<a href=\"https://colab.research.google.com/github/HoussamRazouk/fincausal2025/blob/main/runing_the_code_on_colab.ipynb\" target=\"_parent\"><img src=\"https://colab.research.google.com/assets/colab-badge.svg\" alt=\"Open In Colab\"/></a>"
      ]
    },
    {
      "cell_type": "code",
      "source": [
        "\n",
        "## mount to your drive\n",
        "from google.colab import drive\n",
        "drive.mount('/content/drive')\n",
        "\n"
      ],
      "metadata": {
        "colab": {
          "base_uri": "https://localhost:8080/"
        },
        "id": "2cIX6SGDTemw",
        "outputId": "6a0f6cee-259b-4d36-fc3f-6c1e7926cb07"
      },
      "execution_count": 21,
      "outputs": [
        {
          "output_type": "stream",
          "name": "stdout",
          "text": [
            "Drive already mounted at /content/drive; to attempt to forcibly remount, call drive.mount(\"/content/drive\", force_remount=True).\n"
          ]
        }
      ]
    },
    {
      "cell_type": "code",
      "source": [
        "\n",
        "## remove the old reposotry and clone the lates one and set the home directory to the project directory\n",
        "!rm -rf /content/drive/My\\ Drive/fincausal2025\n",
        "%cd /content/drive/My Drive/\n",
        "!git clone  https://github.com/HoussamRazouk/fincausal2025.git\n",
        "\n",
        "import os\n",
        "os.chdir('/content/drive/My Drive/fincausal2025')\n"
      ],
      "metadata": {
        "colab": {
          "base_uri": "https://localhost:8080/"
        },
        "id": "4JMh1dBRcbhd",
        "outputId": "1cb147b2-f366-4573-b333-6a39a61ab620"
      },
      "execution_count": 28,
      "outputs": [
        {
          "output_type": "stream",
          "name": "stdout",
          "text": [
            "/content/drive/My Drive\n",
            "Cloning into 'fincausal2025'...\n",
            "remote: Enumerating objects: 166, done.\u001b[K\n",
            "remote: Counting objects: 100% (166/166), done.\u001b[K\n",
            "remote: Compressing objects: 100% (129/129), done.\u001b[K\n",
            "remote: Total 166 (delta 50), reused 140 (delta 28), pack-reused 0 (from 0)\u001b[K\n",
            "Receiving objects: 100% (166/166), 1.85 MiB | 2.88 MiB/s, done.\n",
            "Resolving deltas: 100% (50/50), done.\n"
          ]
        }
      ]
    },
    {
      "cell_type": "code",
      "source": [
        "!python /content/drive/My\\ Drive/fincausal2025/src/Model/training_loop.py# run the training loop"
      ],
      "metadata": {
        "colab": {
          "base_uri": "https://localhost:8080/"
        },
        "id": "HdandnZoccFB",
        "outputId": "d7fdbbc3-78ef-4d30-c1d5-5c5e98a3e984"
      },
      "execution_count": null,
      "outputs": [
        {
          "output_type": "stream",
          "name": "stdout",
          "text": [
            "/usr/local/lib/python3.10/dist-packages/transformers/tokenization_utils_base.py:1601: FutureWarning: `clean_up_tokenization_spaces` was not set. It will be set to `True` by default. This behavior will be depracted in transformers v4.45, and will be then set to `False` by default. For more details check this issue: https://github.com/huggingface/transformers/issues/31884\n",
            "  warnings.warn(\n",
            "Using device: cuda\n",
            "fold start 420,\n",
            "768\n",
            "1\n",
            "Number of trainable parameters in the model: 108311809\n",
            "Epoch 1/100, Average Loss: 0.5973563958900143\n",
            "Directory  src/Model/trained_models/bert-base-cased  already exists.\n",
            "Epoch 2/100, Average Loss: 0.5042108544195542\n",
            "Epoch 2/100:  73% 36/49 [00:17<00:06,  2.07it/s]"
          ]
        }
      ]
    }
  ],
  "metadata": {
    "colab": {
      "toc_visible": true,
      "provenance": [],
      "gpuType": "T4",
      "include_colab_link": true
    },
    "kernelspec": {
      "display_name": "Python 3",
      "name": "python3"
    },
    "accelerator": "GPU"
  },
  "nbformat": 4,
  "nbformat_minor": 0
}